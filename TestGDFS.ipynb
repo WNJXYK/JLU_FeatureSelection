{
 "cells": [
  {
   "cell_type": "code",
   "execution_count": 1,
   "metadata": {},
   "outputs": [],
   "source": [
    "from Tool import test"
   ]
  },
  {
   "cell_type": "code",
   "execution_count": 2,
   "metadata": {},
   "outputs": [
    {
     "name": "stdout",
     "output_type": "stream",
     "text": [
      "Dataset cleveland\n"
     ]
    },
    {
     "name": "stderr",
     "output_type": "stream",
     "text": [
      "100%|██████████| 100/100 [00:01<00:00, 64.84it/s]\n"
     ]
    },
    {
     "name": "stdout",
     "output_type": "stream",
     "text": [
      "Best Acc = 0.48888888888888893, DR = 0.6923076923076923\n",
      " * 5nn & 10-fold 0.5854022988505747\n",
      " * SVM & 10-fold 0.5549425287356321\n",
      " * Cart & 10-fold 0.5358620689655172\n",
      " * 5nn & 70%-30% 0.5666666666666667\n",
      " * SVM & 70%-30% 0.5222222222222223\n",
      " * Cart & 70%-30% 0.48888888888888893\n",
      "Dataset ionosphere\n"
     ]
    },
    {
     "name": "stderr",
     "output_type": "stream",
     "text": [
      "100%|██████████| 100/100 [00:01<00:00, 73.86it/s]\n"
     ]
    },
    {
     "name": "stdout",
     "output_type": "stream",
     "text": [
      "Best Acc = 0.9198113207547169, DR = 0.4117647058823529\n",
      " * 5nn & 10-fold 0.8377777777777778\n",
      " * SVM & 10-fold 0.9315873015873016\n",
      " * Cart & 10-fold 0.8634920634920636\n",
      " * 5nn & 70%-30% 0.8018867924528302\n",
      " * SVM & 70%-30% 0.9528301886792453\n",
      " * Cart & 70%-30% 0.8820754716981132\n",
      "Dataset heart\n"
     ]
    },
    {
     "name": "stderr",
     "output_type": "stream",
     "text": [
      "100%|██████████| 100/100 [00:00<00:00, 142.66it/s]\n"
     ]
    },
    {
     "name": "stdout",
     "output_type": "stream",
     "text": [
      "Best Acc = 0.7222222222222222, DR = 0.46153846153846156\n",
      " * 5nn & 10-fold 0.6851851851851852\n",
      " * SVM & 10-fold 0.662962962962963\n",
      " * Cart & 10-fold 0.6370370370370371\n",
      " * 5nn & 70%-30% 0.7037037037037037\n",
      " * SVM & 70%-30% 0.7160493827160493\n",
      " * Cart & 70%-30% 0.7160493827160493\n",
      "Dataset vehicle\n"
     ]
    },
    {
     "name": "stderr",
     "output_type": "stream",
     "text": [
      "100%|██████████| 100/100 [00:04<00:00, 22.15it/s]\n"
     ]
    },
    {
     "name": "stdout",
     "output_type": "stream",
     "text": [
      "Best Acc = 0.734251968503937, DR = 0.6111111111111112\n",
      " * 5nn & 10-fold 0.6736974789915967\n",
      " * SVM & 10-fold 0.6865966386554623\n",
      " * Cart & 10-fold 0.661750700280112\n",
      " * 5nn & 70%-30% 0.7362204724409449\n",
      " * SVM & 70%-30% 0.7283464566929134\n",
      " * Cart & 70%-30% 0.7185039370078741\n",
      "Dataset LSVT\n"
     ]
    },
    {
     "name": "stderr",
     "output_type": "stream",
     "text": [
      "/Users/wnjxyk/.conda/envs/MachineLearning/lib/python3.5/site-packages/sklearn/preprocessing/data.py:164: UserWarning: Numerical issues were encountered when centering the data and might not be solved. Dataset may contain too large values. You may need to prescale your features.\n",
      "  warnings.warn(\"Numerical issues were encountered \"\n",
      "100%|██████████| 100/100 [00:04<00:00, 20.94it/s]\n"
     ]
    },
    {
     "name": "stdout",
     "output_type": "stream",
     "text": [
      "Best Acc = 0.868421052631579, DR = 0.6709677419354838\n",
      " * 5nn & 10-fold 0.6192307692307694\n",
      " * SVM & 10-fold 0.6282051282051283\n",
      " * Cart & 10-fold 0.6846153846153846\n",
      " * 5nn & 70%-30% 0.5526315789473685\n",
      " * SVM & 70%-30% 0.6842105263157895\n",
      " * Cart & 70%-30% 0.8552631578947368\n",
      "Dataset srbct\n"
     ]
    },
    {
     "name": "stderr",
     "output_type": "stream",
     "text": [
      "100%|██████████| 100/100 [00:10<00:00, 11.44it/s]\n"
     ]
    },
    {
     "name": "stdout",
     "output_type": "stream",
     "text": [
      "Best Acc = 0.8947368421052632, DR = 0.6746100519930676\n",
      " * 5nn & 10-fold 0.9523809523809523\n",
      " * SVM & 10-fold 0.9380952380952381\n",
      " * Cart & 10-fold 0.7404761904761905\n",
      " * 5nn & 70%-30% 1.0\n",
      " * SVM & 70%-30% 0.9473684210526315\n",
      " * Cart & 70%-30% 0.8947368421052632\n",
      "Dataset arcene\n"
     ]
    },
    {
     "name": "stderr",
     "output_type": "stream",
     "text": [
      "/Users/wnjxyk/.conda/envs/MachineLearning/lib/python3.5/site-packages/sklearn/utils/validation.py:444: DataConversionWarning: Data with input dtype int64 was converted to float64 by the scale function.\n",
      "  warnings.warn(msg, DataConversionWarning)\n",
      "100%|██████████| 100/100 [02:01<00:00,  1.24s/it]\n"
     ]
    },
    {
     "name": "stdout",
     "output_type": "stream",
     "text": [
      "Best Acc = 0.775, DR = 0.6457999999999999\n",
      " * 5nn & 10-fold 0.725\n",
      " * SVM & 10-fold 0.7350000000000001\n",
      " * Cart & 10-fold 0.6950000000000001\n",
      " * 5nn & 70%-30% 0.7666666666666667\n",
      " * SVM & 70%-30% 0.7\n",
      " * Cart & 70%-30% 0.7416666666666667\n"
     ]
    }
   ],
   "source": [
    "from GDFS import GDFS\n",
    "test(GDFS)"
   ]
  },
  {
   "cell_type": "code",
   "execution_count": 7,
   "metadata": {},
   "outputs": [
    {
     "name": "stdout",
     "output_type": "stream",
     "text": [
      "Dataset cleveland\n",
      "Dr = 0.07692307692307693\n",
      " * 5nn & 10-fold 0.568735632183908\n",
      " * SVM & 10-fold 0.565287356321839\n",
      " * Cart & 10-fold 0.4580459770114943\n",
      " * 5nn & 70%-30% 0.5222222222222223\n",
      " * SVM & 70%-30% 0.5111111111111111\n",
      " * Cart & 70%-30% 0.45555555555555555\n",
      "Dataset ionosphere\n",
      "Dr = 0.29411764705882354\n",
      " * 5nn & 10-fold 0.8579365079365079\n",
      " * SVM & 10-fold 0.9458730158730159\n",
      " * Cart & 10-fold 0.8604761904761904\n",
      " * 5nn & 70%-30% 0.8584905660377359\n",
      " * SVM & 70%-30% 0.9528301886792453\n",
      " * Cart & 70%-30% 0.8490566037735849\n",
      "Dataset heart\n",
      "Dr = 0.07692307692307693\n",
      " * 5nn & 10-fold 0.8074074074074075\n",
      " * SVM & 10-fold 0.8296296296296296\n",
      " * Cart & 10-fold 0.7481481481481481\n",
      " * 5nn & 70%-30% 0.7530864197530864\n",
      " * SVM & 70%-30% 0.8024691358024691\n",
      " * Cart & 70%-30% 0.7654320987654322\n",
      "Dataset vehicle\n",
      "Dr = 0.2222222222222222\n",
      " * 5nn & 10-fold 0.7127450980392156\n",
      " * SVM & 10-fold 0.7624369747899158\n",
      " * Cart & 10-fold 0.6901680672268908\n",
      " * 5nn & 70%-30% 0.7795275590551181\n",
      " * SVM & 70%-30% 0.8031496062992126\n",
      " * Cart & 70%-30% 0.7637795275590551\n",
      "Dataset LSVT\n"
     ]
    },
    {
     "name": "stderr",
     "output_type": "stream",
     "text": [
      "/Users/wnjxyk/.conda/envs/MachineLearning/lib/python3.5/site-packages/sklearn/preprocessing/data.py:164: UserWarning: Numerical issues were encountered when centering the data and might not be solved. Dataset may contain too large values. You may need to prescale your features.\n",
      "  warnings.warn(\"Numerical issues were encountered \"\n"
     ]
    },
    {
     "name": "stdout",
     "output_type": "stream",
     "text": [
      "Dr = 0.8870967741935484\n",
      " * 5nn & 10-fold 0.8897435897435898\n",
      " * SVM & 10-fold 0.9141025641025641\n",
      " * Cart & 10-fold 0.7692307692307692\n",
      " * 5nn & 70%-30% 0.8421052631578947\n",
      " * SVM & 70%-30% 0.8947368421052632\n",
      " * Cart & 70%-30% 0.7894736842105263\n",
      "Dataset srbct\n",
      "Dr = 0.994367417677643\n",
      " * 5nn & 10-fold 0.45476190476190476\n",
      " * SVM & 10-fold 0.569047619047619\n",
      " * Cart & 10-fold 0.5571428571428572\n",
      " * 5nn & 70%-30% 0.47368421052631576\n",
      " * SVM & 70%-30% 0.631578947368421\n",
      " * Cart & 70%-30% 0.7894736842105263\n",
      "Dataset arcene\n"
     ]
    },
    {
     "name": "stderr",
     "output_type": "stream",
     "text": [
      "/Users/wnjxyk/.conda/envs/MachineLearning/lib/python3.5/site-packages/sklearn/utils/validation.py:444: DataConversionWarning: Data with input dtype int64 was converted to float64 by the scale function.\n",
      "  warnings.warn(msg, DataConversionWarning)\n"
     ]
    },
    {
     "name": "stdout",
     "output_type": "stream",
     "text": [
      "Dr = 0.9709\n",
      " * 5nn & 10-fold 0.8099999999999999\n",
      " * SVM & 10-fold 0.915\n",
      " * Cart & 10-fold 0.725\n",
      " * 5nn & 70%-30% 0.7166666666666667\n",
      " * SVM & 70%-30% 0.8333333333333334\n",
      " * Cart & 70%-30% 0.7166666666666667\n"
     ]
    }
   ],
   "source": [
    "from Lasso import Lasso\n",
    "test(Lasso)"
   ]
  },
  {
   "cell_type": "code",
   "execution_count": null,
   "metadata": {
    "collapsed": true
   },
   "outputs": [],
   "source": []
  }
 ],
 "metadata": {
  "kernelspec": {
   "display_name": "Python 3",
   "language": "python",
   "name": "python3"
  },
  "language_info": {
   "codemirror_mode": {
    "name": "ipython",
    "version": 3
   },
   "file_extension": ".py",
   "mimetype": "text/x-python",
   "name": "python",
   "nbconvert_exporter": "python",
   "pygments_lexer": "ipython3",
   "version": "3.5.4"
  }
 },
 "nbformat": 4,
 "nbformat_minor": 1
}
